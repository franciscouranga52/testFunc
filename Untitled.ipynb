{
 "cells": [
  {
   "cell_type": "code",
   "execution_count": 1,
   "id": "b13ef9a0",
   "metadata": {},
   "outputs": [
    {
     "name": "stdout",
     "output_type": "stream",
     "text": [
      "Collecting git+https://github.com/franciscouranga52/testFunc.git\n",
      "  Cloning https://github.com/franciscouranga52/testFunc.git to /private/var/folders/5t/4r5f98q9413ck2rbbyk85lbr0000gp/T/pip-req-build-j67n74c7\n",
      "  Running command git clone -q https://github.com/franciscouranga52/testFunc.git /private/var/folders/5t/4r5f98q9413ck2rbbyk85lbr0000gp/T/pip-req-build-j67n74c7\n",
      "  xcrun: error: invalid active developer path (/Library/Developer/CommandLineTools), missing xcrun at: /Library/Developer/CommandLineTools/usr/bin/xcrun\n",
      "\u001b[33mWARNING: Discarding git+https://github.com/franciscouranga52/testFunc.git. Command errored out with exit status 1: git clone -q https://github.com/franciscouranga52/testFunc.git /private/var/folders/5t/4r5f98q9413ck2rbbyk85lbr0000gp/T/pip-req-build-j67n74c7 Check the logs for full command output.\u001b[0m\n",
      "\u001b[31mERROR: Command errored out with exit status 1: git clone -q https://github.com/franciscouranga52/testFunc.git /private/var/folders/5t/4r5f98q9413ck2rbbyk85lbr0000gp/T/pip-req-build-j67n74c7 Check the logs for full command output.\u001b[0m\n",
      "Note: you may need to restart the kernel to use updated packages.\n"
     ]
    }
   ],
   "source": [
    "pip install git+https://github.com/franciscouranga52/testFunc.git"
   ]
  },
  {
   "cell_type": "code",
   "execution_count": null,
   "id": "edfd83b3",
   "metadata": {},
   "outputs": [],
   "source": []
  }
 ],
 "metadata": {
  "kernelspec": {
   "display_name": "Python 3",
   "language": "python",
   "name": "python3"
  },
  "language_info": {
   "codemirror_mode": {
    "name": "ipython",
    "version": 3
   },
   "file_extension": ".py",
   "mimetype": "text/x-python",
   "name": "python",
   "nbconvert_exporter": "python",
   "pygments_lexer": "ipython3",
   "version": "3.8.8"
  }
 },
 "nbformat": 4,
 "nbformat_minor": 5
}
