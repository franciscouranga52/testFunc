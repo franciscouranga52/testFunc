{
 "cells": [
  {
   "cell_type": "code",
   "execution_count": 1,
   "id": "cd7e84ae",
   "metadata": {},
   "outputs": [
    {
     "name": "stdout",
     "output_type": "stream",
     "text": [
      "Collecting git+https://github.com/franciscouranga52/testFunc.git\n",
      "  Cloning https://github.com/franciscouranga52/testFunc.git to /private/var/folders/5t/4r5f98q9413ck2rbbyk85lbr0000gp/T/pip-req-build-kpq4b07r\n",
      "  Running command git clone -q https://github.com/franciscouranga52/testFunc.git /private/var/folders/5t/4r5f98q9413ck2rbbyk85lbr0000gp/T/pip-req-build-kpq4b07r\n",
      "  xcrun: error: invalid active developer path (/Library/Developer/CommandLineTools), missing xcrun at: /Library/Developer/CommandLineTools/usr/bin/xcrun\n",
      "\u001b[33mWARNING: Discarding git+https://github.com/franciscouranga52/testFunc.git. Command errored out with exit status 1: git clone -q https://github.com/franciscouranga52/testFunc.git /private/var/folders/5t/4r5f98q9413ck2rbbyk85lbr0000gp/T/pip-req-build-kpq4b07r Check the logs for full command output.\u001b[0m\n",
      "\u001b[31mERROR: Command errored out with exit status 1: git clone -q https://github.com/franciscouranga52/testFunc.git /private/var/folders/5t/4r5f98q9413ck2rbbyk85lbr0000gp/T/pip-req-build-kpq4b07r Check the logs for full command output.\u001b[0m\n",
      "Note: you may need to restart the kernel to use updated packages.\n"
     ]
    }
   ],
   "source": [
    "pip install git+https://github.com/franciscouranga52/testFunc.git"
   ]
  },
  {
   "cell_type": "code",
   "execution_count": 2,
   "id": "31aca8e2",
   "metadata": {},
   "outputs": [],
   "source": [
    "import mathFunctions"
   ]
  },
  {
   "cell_type": "code",
   "execution_count": 3,
   "id": "087b87ff",
   "metadata": {},
   "outputs": [
    {
     "ename": "NameError",
     "evalue": "name 'addNumbers' is not defined",
     "output_type": "error",
     "traceback": [
      "\u001b[0;31m---------------------------------------------------------------------------\u001b[0m",
      "\u001b[0;31mNameError\u001b[0m                                 Traceback (most recent call last)",
      "\u001b[0;32m<ipython-input-3-07abdbb09432>\u001b[0m in \u001b[0;36m<module>\u001b[0;34m\u001b[0m\n\u001b[0;32m----> 1\u001b[0;31m \u001b[0maddNumbers\u001b[0m \u001b[0;34m(\u001b[0m\u001b[0;36m1\u001b[0m\u001b[0;34m,\u001b[0m\u001b[0;36m2\u001b[0m\u001b[0;34m)\u001b[0m\u001b[0;34m\u001b[0m\u001b[0;34m\u001b[0m\u001b[0m\n\u001b[0m",
      "\u001b[0;31mNameError\u001b[0m: name 'addNumbers' is not defined"
     ]
    }
   ],
   "source": [
    "addNumbers (1,2)"
   ]
  },
  {
   "cell_type": "code",
   "execution_count": null,
   "id": "5b70c51b",
   "metadata": {},
   "outputs": [],
   "source": []
  }
 ],
 "metadata": {
  "kernelspec": {
   "display_name": "Python 3",
   "language": "python",
   "name": "python3"
  },
  "language_info": {
   "codemirror_mode": {
    "name": "ipython",
    "version": 3
   },
   "file_extension": ".py",
   "mimetype": "text/x-python",
   "name": "python",
   "nbconvert_exporter": "python",
   "pygments_lexer": "ipython3",
   "version": "3.8.8"
  }
 },
 "nbformat": 4,
 "nbformat_minor": 5
}
